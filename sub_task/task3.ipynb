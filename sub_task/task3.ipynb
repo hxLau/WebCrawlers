{
 "cells": [
  {
   "cell_type": "code",
   "execution_count": 7,
   "metadata": {},
   "outputs": [],
   "source": [
    "import requests\n",
    "import numpy as np\n",
    "import pandas as pd\n",
    "from bs4 import BeautifulSoup as bs\n",
    "import time\n",
    "import json\n",
    "import urllib3"
   ]
  },
  {
   "cell_type": "code",
   "execution_count": 8,
   "metadata": {},
   "outputs": [],
   "source": [
    "def get_net_list():\n",
    "    url_first = 'http://www.stats.gov.cn/was5/web/search?page=' \n",
    "    url_second = '&channelid=288041&was_custom_expr=like%28%E6%9C%88%E4%BB%BD%E5%85%A8%E5%9B%BD%E8%A7%84%E6%A8%A1%E4%BB%A5%E4%B8%8A%E5%B7%A5%E4%B8%9A%E4%BC%81%E4%B8%9A%E5%88%A9%E6%B6%A6%29%2Fsen&perpage=10&outlinepage=10'\n",
    "    http = urllib3.PoolManager();\n",
    "    \n",
    "    rlist = []\n",
    "    for i in range(1,11):\n",
    "        url = url_first + str(i) + url_second\n",
    "        r = http.request('GET',url)\n",
    "        r_text = r.data.decode()\n",
    "        r_html = bs(r_text)\n",
    "        # 获取网站列表\n",
    "        for trr in r_html.findAll('font',{'class':'cont_tit03'}):\n",
    "            net = trr.text.split(\"\\'\")[1]\n",
    "            rlist.append(net)\n",
    "    url_list = []\n",
    "    for r in rlist:\n",
    "        net_part = r.split('/')\n",
    "        if len(net_part)==7 and int(net_part[5][:4])>=2019 and net_part[4]=='zxfb':\n",
    "            url_list.append(r)\n",
    "    return url_list"
   ]
  },
  {
   "cell_type": "code",
   "execution_count": 9,
   "metadata": {},
   "outputs": [],
   "source": [
    "def get_csv_name(url):\n",
    "    date_pre = url.split('/')[5]\n",
    "    year = int(date_pre[:4])\n",
    "    month = date_pre[4:]\n",
    "    month = int(month)-1\n",
    "    if month == 0:\n",
    "        year = str(year - 1)\n",
    "        month = '12'\n",
    "    else:\n",
    "        if month < 10:\n",
    "            month = \"0\" + str(month)\n",
    "        else:\n",
    "            month = str(month)\n",
    "    year = str(year)\n",
    "    month = str(month)\n",
    "\n",
    "    csv_dir = \"./data/task3/全国规模以上企业利润\" + year + \"年1-\" + month + \"月份\" + \".csv\"\n",
    "    return csv_dir, year + \"年1-\" + month + \"月份\""
   ]
  },
  {
   "cell_type": "code",
   "execution_count": 10,
   "metadata": {},
   "outputs": [],
   "source": [
    "def get_data(url_list):\n",
    "    http = urllib3.PoolManager();\n",
    "    dataf = {}\n",
    "    for url_index in range(len(url_list)):\n",
    "        print(url_list[url_index])\n",
    "        csv_dir, date = get_csv_name(url_list[url_index])\n",
    "        r = http.request('GET',url_list[url_index])\n",
    "        r_text = r.data.decode()\n",
    "        r_bs = bs(r_text)\n",
    "        for trr in r_bs.findAll('table', {'class': 'MsoNormalTable'}):\n",
    "            table = trr\n",
    "\n",
    "        table_all = table.text.split('\\u3000')\n",
    "        table_item = table_all[2:]\n",
    "        table_head = table_all[1]\n",
    "        table_zongji = table_head.split()\n",
    "\n",
    "        shouru_1 = []\n",
    "        shouru_2 = []\n",
    "        chengben_1 = []\n",
    "        chengben_2 = []\n",
    "        lirun_1 = []\n",
    "        lirun_2 = []\n",
    "        hangye = []\n",
    "        hangye.append(table_zongji[-7])\n",
    "        shouru_1.append(table_zongji[-6])\n",
    "        shouru_2.append(table_zongji[-5])\n",
    "        chengben_1.append(table_zongji[-4])\n",
    "        chengben_2.append(table_zongji[-3])\n",
    "        lirun_1.append(table_zongji[-2])\n",
    "        lirun_2.append(table_zongji[-1])\n",
    "\n",
    "        for i in table_item:\n",
    "            e = i.split()\n",
    "            hangye.append(e[0])\n",
    "            shouru_1.append(e[1])\n",
    "            shouru_2.append(e[2])\n",
    "            chengben_1.append(e[3])\n",
    "            chengben_2.append(e[4])\n",
    "            lirun_1.append(e[5])\n",
    "            lirun_2.append(e[6])\n",
    "        if url_index == 0:\n",
    "            dataf['行业'] = hangye\n",
    "        dataf[date+'营业收入'] = shouru_1\n",
    "        dataf[date+'营业收入同比'] = shouru_2\n",
    "        dataf[date+'营业成本'] = chengben_1\n",
    "        dataf[date+'营业成本同比'] = chengben_2\n",
    "        dataf[date+'利润总额'] = lirun_1\n",
    "        dataf[date+'利润总额同比'] = lirun_2\n",
    "\n",
    "    data_frame = pd.DataFrame(data=dataf) \n",
    "    writer = pd.ExcelWriter(\"./result.xlsx\")\n",
    "    data_frame.to_excel(writer, index=False, encoding=\"GBK\",sheet_name='2019-04-01')\n",
    "    data_frame.to_excel(writer, index=False, encoding=\"GBK\",sheet_name='2019-04-02')\n",
    "    writer.save()"
   ]
  },
  {
   "cell_type": "code",
   "execution_count": 11,
   "metadata": {},
   "outputs": [],
   "source": [
    "def main():\n",
    "    url_list = get_net_list()\n",
    "    get_data(url_list)"
   ]
  },
  {
   "cell_type": "code",
   "execution_count": 12,
   "metadata": {},
   "outputs": [
    {
     "name": "stdout",
     "output_type": "stream",
     "text": [
      "http://www.stats.gov.cn/tjsj/zxfb/202012/t20201227_1811833.html\n",
      "http://www.stats.gov.cn/tjsj/zxfb/202011/t20201127_1805655.html\n",
      "http://www.stats.gov.cn/tjsj/zxfb/202010/t20201027_1796416.html\n",
      "http://www.stats.gov.cn/tjsj/zxfb/202009/t20200927_1791690.html\n",
      "http://www.stats.gov.cn/tjsj/zxfb/202008/t20200827_1786197.html\n",
      "http://www.stats.gov.cn/tjsj/zxfb/202007/t20200727_1778629.html\n",
      "http://www.stats.gov.cn/tjsj/zxfb/202006/t20200628_1770629.html\n",
      "http://www.stats.gov.cn/tjsj/zxfb/202005/t20200527_1748217.html\n",
      "http://www.stats.gov.cn/tjsj/zxfb/202004/t20200427_1741735.html\n",
      "http://www.stats.gov.cn/tjsj/zxfb/202003/t20200327_1735114.html\n",
      "http://www.stats.gov.cn/tjsj/zxfb/201912/t20191227_1720052.html\n",
      "http://www.stats.gov.cn/tjsj/zxfb/201911/t20191127_1712037.html\n",
      "http://www.stats.gov.cn/tjsj/zxfb/201910/t20191025_1705454.html\n",
      "http://www.stats.gov.cn/tjsj/zxfb/201910/t20191009_1701377.html\n",
      "http://www.stats.gov.cn/tjsj/zxfb/201907/t20190727_1682320.html\n",
      "http://www.stats.gov.cn/tjsj/zxfb/201906/t20190627_1672639.html\n",
      "http://www.stats.gov.cn/tjsj/zxfb/201905/t20190527_1667142.html\n",
      "http://www.stats.gov.cn/tjsj/zxfb/201904/t20190426_1661900.html\n",
      "http://www.stats.gov.cn/tjsj/zxfb/201903/t20190327_1656417.html\n"
     ]
    }
   ],
   "source": [
    "main()"
   ]
  },
  {
   "cell_type": "code",
   "execution_count": null,
   "metadata": {},
   "outputs": [],
   "source": []
  }
 ],
 "metadata": {
  "kernelspec": {
   "display_name": "Python 3",
   "language": "python",
   "name": "python3"
  },
  "language_info": {
   "codemirror_mode": {
    "name": "ipython",
    "version": 3
   },
   "file_extension": ".py",
   "mimetype": "text/x-python",
   "name": "python",
   "nbconvert_exporter": "python",
   "pygments_lexer": "ipython3",
   "version": "3.7.4"
  }
 },
 "nbformat": 4,
 "nbformat_minor": 2
}
